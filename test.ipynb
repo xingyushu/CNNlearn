{
  "nbformat": 4,
  "nbformat_minor": 0,
  "metadata": {
    "colab": {
      "name": "test.ipynb",
      "provenance": [],
      "collapsed_sections": [],
      "mount_file_id": "126vQyasbSIgYof2RnSPgTtyLH-C8SahC",
      "authorship_tag": "ABX9TyMavjxTChoFBrDCWoIYPUd8",
      "include_colab_link": true
    },
    "kernelspec": {
      "name": "python3",
      "display_name": "Python 3"
    }
  },
  "cells": [
    {
      "cell_type": "markdown",
      "metadata": {
        "id": "view-in-github",
        "colab_type": "text"
      },
      "source": [
        "<a href=\"https://colab.research.google.com/github/xingyushu/Image_recognizer_CNN/blob/master/test.ipynb\" target=\"_parent\"><img src=\"https://colab.research.google.com/assets/colab-badge.svg\" alt=\"Open In Colab\"/></a>"
      ]
    },
    {
      "cell_type": "code",
      "metadata": {
        "colab": {
          "base_uri": "https://localhost:8080/"
        },
        "id": "qTWKBawvmlka",
        "outputId": "6d2e7f6b-a7c8-4953-950e-d1149b5dfecf"
      },
      "source": [
        "!pip3 install waymo-open-dataset\r\n"
      ],
      "execution_count": null,
      "outputs": [
        {
          "output_type": "stream",
          "text": [
            "Collecting waymo-open-dataset\n",
            "\u001b[?25l  Downloading https://files.pythonhosted.org/packages/6c/49/61ff4a6081233df4b3d7bb1b454a8a9c6a29b493ef84c2b667db4a2b79d5/waymo_open_dataset-1.0.1-cp36-cp36m-manylinux2010_x86_64.whl (2.7MB)\n",
            "\u001b[K     |████████████████████████████████| 2.7MB 13.8MB/s \n",
            "\u001b[?25hRequirement already satisfied: tensorflow>=1.14.0 in /usr/local/lib/python3.6/dist-packages (from waymo-open-dataset) (2.4.1)\n",
            "Requirement already satisfied: tensorboard~=2.4 in /usr/local/lib/python3.6/dist-packages (from tensorflow>=1.14.0->waymo-open-dataset) (2.4.1)\n",
            "Requirement already satisfied: wheel~=0.35 in /usr/local/lib/python3.6/dist-packages (from tensorflow>=1.14.0->waymo-open-dataset) (0.36.2)\n",
            "Requirement already satisfied: opt-einsum~=3.3.0 in /usr/local/lib/python3.6/dist-packages (from tensorflow>=1.14.0->waymo-open-dataset) (3.3.0)\n",
            "Requirement already satisfied: absl-py~=0.10 in /usr/local/lib/python3.6/dist-packages (from tensorflow>=1.14.0->waymo-open-dataset) (0.10.0)\n",
            "Requirement already satisfied: h5py~=2.10.0 in /usr/local/lib/python3.6/dist-packages (from tensorflow>=1.14.0->waymo-open-dataset) (2.10.0)\n",
            "Requirement already satisfied: keras-preprocessing~=1.1.2 in /usr/local/lib/python3.6/dist-packages (from tensorflow>=1.14.0->waymo-open-dataset) (1.1.2)\n",
            "Requirement already satisfied: six~=1.15.0 in /usr/local/lib/python3.6/dist-packages (from tensorflow>=1.14.0->waymo-open-dataset) (1.15.0)\n",
            "Requirement already satisfied: numpy~=1.19.2 in /usr/local/lib/python3.6/dist-packages (from tensorflow>=1.14.0->waymo-open-dataset) (1.19.5)\n",
            "Requirement already satisfied: wrapt~=1.12.1 in /usr/local/lib/python3.6/dist-packages (from tensorflow>=1.14.0->waymo-open-dataset) (1.12.1)\n",
            "Requirement already satisfied: gast==0.3.3 in /usr/local/lib/python3.6/dist-packages (from tensorflow>=1.14.0->waymo-open-dataset) (0.3.3)\n",
            "Requirement already satisfied: flatbuffers~=1.12.0 in /usr/local/lib/python3.6/dist-packages (from tensorflow>=1.14.0->waymo-open-dataset) (1.12)\n",
            "Requirement already satisfied: grpcio~=1.32.0 in /usr/local/lib/python3.6/dist-packages (from tensorflow>=1.14.0->waymo-open-dataset) (1.32.0)\n",
            "Requirement already satisfied: protobuf>=3.9.2 in /usr/local/lib/python3.6/dist-packages (from tensorflow>=1.14.0->waymo-open-dataset) (3.12.4)\n",
            "Requirement already satisfied: typing-extensions~=3.7.4 in /usr/local/lib/python3.6/dist-packages (from tensorflow>=1.14.0->waymo-open-dataset) (3.7.4.3)\n",
            "Requirement already satisfied: google-pasta~=0.2 in /usr/local/lib/python3.6/dist-packages (from tensorflow>=1.14.0->waymo-open-dataset) (0.2.0)\n",
            "Requirement already satisfied: tensorflow-estimator<2.5.0,>=2.4.0 in /usr/local/lib/python3.6/dist-packages (from tensorflow>=1.14.0->waymo-open-dataset) (2.4.0)\n",
            "Requirement already satisfied: termcolor~=1.1.0 in /usr/local/lib/python3.6/dist-packages (from tensorflow>=1.14.0->waymo-open-dataset) (1.1.0)\n",
            "Requirement already satisfied: astunparse~=1.6.3 in /usr/local/lib/python3.6/dist-packages (from tensorflow>=1.14.0->waymo-open-dataset) (1.6.3)\n",
            "Requirement already satisfied: setuptools>=41.0.0 in /usr/local/lib/python3.6/dist-packages (from tensorboard~=2.4->tensorflow>=1.14.0->waymo-open-dataset) (53.0.0)\n",
            "Requirement already satisfied: google-auth<2,>=1.6.3 in /usr/local/lib/python3.6/dist-packages (from tensorboard~=2.4->tensorflow>=1.14.0->waymo-open-dataset) (1.24.0)\n",
            "Requirement already satisfied: tensorboard-plugin-wit>=1.6.0 in /usr/local/lib/python3.6/dist-packages (from tensorboard~=2.4->tensorflow>=1.14.0->waymo-open-dataset) (1.8.0)\n",
            "Requirement already satisfied: werkzeug>=0.11.15 in /usr/local/lib/python3.6/dist-packages (from tensorboard~=2.4->tensorflow>=1.14.0->waymo-open-dataset) (1.0.1)\n",
            "Requirement already satisfied: requests<3,>=2.21.0 in /usr/local/lib/python3.6/dist-packages (from tensorboard~=2.4->tensorflow>=1.14.0->waymo-open-dataset) (2.23.0)\n",
            "Requirement already satisfied: markdown>=2.6.8 in /usr/local/lib/python3.6/dist-packages (from tensorboard~=2.4->tensorflow>=1.14.0->waymo-open-dataset) (3.3.3)\n",
            "Requirement already satisfied: google-auth-oauthlib<0.5,>=0.4.1 in /usr/local/lib/python3.6/dist-packages (from tensorboard~=2.4->tensorflow>=1.14.0->waymo-open-dataset) (0.4.2)\n",
            "Requirement already satisfied: cachetools<5.0,>=2.0.0 in /usr/local/lib/python3.6/dist-packages (from google-auth<2,>=1.6.3->tensorboard~=2.4->tensorflow>=1.14.0->waymo-open-dataset) (4.2.1)\n",
            "Requirement already satisfied: pyasn1-modules>=0.2.1 in /usr/local/lib/python3.6/dist-packages (from google-auth<2,>=1.6.3->tensorboard~=2.4->tensorflow>=1.14.0->waymo-open-dataset) (0.2.8)\n",
            "Requirement already satisfied: rsa<5,>=3.1.4; python_version >= \"3.6\" in /usr/local/lib/python3.6/dist-packages (from google-auth<2,>=1.6.3->tensorboard~=2.4->tensorflow>=1.14.0->waymo-open-dataset) (4.7)\n",
            "Requirement already satisfied: chardet<4,>=3.0.2 in /usr/local/lib/python3.6/dist-packages (from requests<3,>=2.21.0->tensorboard~=2.4->tensorflow>=1.14.0->waymo-open-dataset) (3.0.4)\n",
            "Requirement already satisfied: idna<3,>=2.5 in /usr/local/lib/python3.6/dist-packages (from requests<3,>=2.21.0->tensorboard~=2.4->tensorflow>=1.14.0->waymo-open-dataset) (2.10)\n",
            "Requirement already satisfied: certifi>=2017.4.17 in /usr/local/lib/python3.6/dist-packages (from requests<3,>=2.21.0->tensorboard~=2.4->tensorflow>=1.14.0->waymo-open-dataset) (2020.12.5)\n",
            "Requirement already satisfied: urllib3!=1.25.0,!=1.25.1,<1.26,>=1.21.1 in /usr/local/lib/python3.6/dist-packages (from requests<3,>=2.21.0->tensorboard~=2.4->tensorflow>=1.14.0->waymo-open-dataset) (1.24.3)\n",
            "Requirement already satisfied: importlib-metadata; python_version < \"3.8\" in /usr/local/lib/python3.6/dist-packages (from markdown>=2.6.8->tensorboard~=2.4->tensorflow>=1.14.0->waymo-open-dataset) (3.4.0)\n",
            "Requirement already satisfied: requests-oauthlib>=0.7.0 in /usr/local/lib/python3.6/dist-packages (from google-auth-oauthlib<0.5,>=0.4.1->tensorboard~=2.4->tensorflow>=1.14.0->waymo-open-dataset) (1.3.0)\n",
            "Requirement already satisfied: pyasn1<0.5.0,>=0.4.6 in /usr/local/lib/python3.6/dist-packages (from pyasn1-modules>=0.2.1->google-auth<2,>=1.6.3->tensorboard~=2.4->tensorflow>=1.14.0->waymo-open-dataset) (0.4.8)\n",
            "Requirement already satisfied: zipp>=0.5 in /usr/local/lib/python3.6/dist-packages (from importlib-metadata; python_version < \"3.8\"->markdown>=2.6.8->tensorboard~=2.4->tensorflow>=1.14.0->waymo-open-dataset) (3.4.0)\n",
            "Requirement already satisfied: oauthlib>=3.0.0 in /usr/local/lib/python3.6/dist-packages (from requests-oauthlib>=0.7.0->google-auth-oauthlib<0.5,>=0.4.1->tensorboard~=2.4->tensorflow>=1.14.0->waymo-open-dataset) (3.1.0)\n",
            "Installing collected packages: waymo-open-dataset\n",
            "Successfully installed waymo-open-dataset-1.0.1\n"
          ],
          "name": "stdout"
        }
      ]
    },
    {
      "cell_type": "code",
      "metadata": {
        "id": "bkKQFFCDmo8q",
        "colab": {
          "base_uri": "https://localhost:8080/"
        },
        "outputId": "96b2d914-4ea5-4db8-d25e-2d68a5a35d1b"
      },
      "source": [
        "! git clone https://github.com/waymo-research/waymo-open-dataset.git waymo-od\r\n",
        "! cd waymo-od && git branch -a\r\n",
        "! git checkout remotes/origin/r1.0"
      ],
      "execution_count": null,
      "outputs": [
        {
          "output_type": "stream",
          "text": [
            "Cloning into 'waymo-od'...\n",
            "remote: Enumerating objects: 105, done.\u001b[K\n",
            "remote: Counting objects: 100% (105/105), done.\u001b[K\n",
            "remote: Compressing objects: 100% (80/80), done.\u001b[K\n",
            "remote: Total 989 (delta 51), reused 50 (delta 21), pack-reused 884\u001b[K\n",
            "Receiving objects: 100% (989/989), 14.25 MiB | 9.73 MiB/s, done.\n",
            "Resolving deltas: 100% (631/631), done.\n",
            "* \u001b[32mmaster\u001b[m\n",
            "  \u001b[31mremotes/origin/HEAD\u001b[m -> origin/master\n",
            "  \u001b[31mremotes/origin/master\u001b[m\n",
            "  \u001b[31mremotes/origin/r1.0\u001b[m\n",
            "  \u001b[31mremotes/origin/r1.0-tf1.15\u001b[m\n",
            "  \u001b[31mremotes/origin/r1.0-tf2.0\u001b[m\n",
            "  \u001b[31mremotes/origin/r1.2\u001b[m\n",
            "fatal: not a git repository (or any of the parent directories): .git\n"
          ],
          "name": "stdout"
        }
      ]
    },
    {
      "cell_type": "code",
      "metadata": {
        "colab": {
          "base_uri": "https://localhost:8080/"
        },
        "id": "Sq6fKChC2lJE",
        "outputId": "6441352f-6fa0-4438-8623-7c8f8fb9f463"
      },
      "source": [
        "!git clone https://github.com/yyuuliang/waymo-dataset-viewer.git "
      ],
      "execution_count": null,
      "outputs": [
        {
          "output_type": "stream",
          "text": [
            "Cloning into 'waymo-dataset-viewer'...\n",
            "remote: Enumerating objects: 23, done.\u001b[K\n",
            "remote: Counting objects: 100% (23/23), done.\u001b[K\n",
            "remote: Compressing objects: 100% (18/18), done.\u001b[K\n",
            "remote: Total 23 (delta 6), reused 19 (delta 4), pack-reused 0\u001b[K\n",
            "Unpacking objects: 100% (23/23), done.\n"
          ],
          "name": "stdout"
        }
      ]
    },
    {
      "cell_type": "code",
      "metadata": {
        "colab": {
          "base_uri": "https://localhost:8080/"
        },
        "id": "ZySiVxbjox-t",
        "outputId": "b7ba96f7-6a07-490e-b2ff-231629806003"
      },
      "source": [
        "from google.colab import drive\n",
        "drive.mount('/content/drive')"
      ],
      "execution_count": null,
      "outputs": [
        {
          "output_type": "stream",
          "text": [
            "Drive already mounted at /content/drive; to attempt to forcibly remount, call drive.mount(\"/content/drive\", force_remount=True).\n"
          ],
          "name": "stdout"
        }
      ]
    },
    {
      "cell_type": "code",
      "metadata": {
        "colab": {
          "base_uri": "https://localhost:8080/",
          "height": 503
        },
        "id": "7IL4lJdWmuKx",
        "outputId": "6e5f70b9-54aa-469a-cd04-63182e19c331"
      },
      "source": [
        "import os\r\n",
        "import imp\r\n",
        "import tensorflow as tf\r\n",
        "import math\r\n",
        "import numpy as np\r\n",
        "import itertools\r\n",
        "import matplotlib.pyplot as plt\r\n",
        "import struct\r\n",
        "m=imp.find_module('waymo_open_dataset', ['.'])\r\n",
        "imp.load_module('waymo_open_dataset', m[0], m[1], m[2])\r\n",
        "from waymo_open_dataset.utils import range_image_utils\r\n",
        "from waymo_open_dataset.utils import transform_utils\r\n",
        "from waymo_open_dataset import dataset_pb2 as open_dataset\r\n",
        "tf.compat.v1.enable_eager_execution()\r\n",
        "\r\n",
        "def image_show(data, name, layout, cmap=None):\r\n",
        "  \"\"\"Show an image.\"\"\"\r\n",
        "  plt.subplot(*layout)\r\n",
        "  plt.imshow(tf.image.decode_jpeg(data), cmap=cmap)\r\n",
        "  plt.title(name)\r\n",
        "  plt.grid(False)\r\n",
        "  plt.axis('off')\r\n",
        "def parse_range_image_and_camera_projection(frame):\r\n",
        "  \"\"\"Parse range images and camera projections given a frame.\r\n",
        "\r\n",
        "  Args:\r\n",
        "     frame: open dataset frame proto\r\n",
        "  Returns:\r\n",
        "     range_images: A dict of {laser_name,\r\n",
        "       [range_image_first_return, range_image_second_return]}.\r\n",
        "     camera_projections: A dict of {laser_name,\r\n",
        "       [camera_projection_from_first_return,\r\n",
        "        camera_projection_from_second_return]}.\r\n",
        "    range_image_top_pose: range image pixel pose for top lidar.\r\n",
        "  \"\"\"\r\n",
        "  range_images = {}\r\n",
        "  camera_projections = {}\r\n",
        "  range_image_top_pose = None\r\n",
        "  for laser in frame.lasers:\r\n",
        "    if len(laser.ri_return1.range_image_compressed) > 0:\r\n",
        "      range_image_str_tensor = tf.io.decode_compressed(\r\n",
        "          laser.ri_return1.range_image_compressed, 'ZLIB')\r\n",
        "      ri = open_dataset.MatrixFloat()\r\n",
        "      ri.ParseFromString(bytearray(range_image_str_tensor.numpy()))\r\n",
        "      range_images[laser.name] = [ri]\r\n",
        "\r\n",
        "      if laser.name == open_dataset.LaserName.TOP:\r\n",
        "        range_image_top_pose_str_tensor = tf.io.decode_compressed(\r\n",
        "            laser.ri_return1.range_image_pose_compressed, 'ZLIB')\r\n",
        "        range_image_top_pose = open_dataset.MatrixFloat()\r\n",
        "        range_image_top_pose.ParseFromString(\r\n",
        "            bytearray(range_image_top_pose_str_tensor.numpy()))\r\n",
        "\r\n",
        "      camera_projection_str_tensor = tf.io.decode_compressed(\r\n",
        "          laser.ri_return1.camera_projection_compressed, 'ZLIB')\r\n",
        "      cp = open_dataset.MatrixInt32()\r\n",
        "      cp.ParseFromString(bytearray(camera_projection_str_tensor.numpy()))\r\n",
        "      camera_projections[laser.name] = [cp]\r\n",
        "    if len(laser.ri_return2.range_image_compressed) > 0:\r\n",
        "      range_image_str_tensor = tf.io.decode_compressed(\r\n",
        "          laser.ri_return2.range_image_compressed, 'ZLIB')\r\n",
        "      ri = open_dataset.MatrixFloat()\r\n",
        "      ri.ParseFromString(bytearray(range_image_str_tensor.numpy()))\r\n",
        "      range_images[laser.name].append(ri)\r\n",
        "\r\n",
        "      camera_projection_str_tensor = tf.io.decode_compressed(\r\n",
        "          laser.ri_return2.camera_projection_compressed, 'ZLIB')\r\n",
        "      cp = open_dataset.MatrixInt32()\r\n",
        "      cp.ParseFromString(bytearray(camera_projection_str_tensor.numpy()))\r\n",
        "      camera_projections[laser.name].append(cp)\r\n",
        "  return range_images, camera_projections, range_image_top_pose \r\n",
        "def plot_range_image_helper(data, name, layout, vmin = 0, vmax=1, cmap='gray'):\r\n",
        "  \"\"\"Plots range image.\r\n",
        "\r\n",
        "  Args:\r\n",
        "    data: range image data\r\n",
        "    name: the image title\r\n",
        "    layout: plt layout\r\n",
        "    vmin: minimum value of the passed data\r\n",
        "    vmax: maximum value of the passed data\r\n",
        "    cmap: color map\r\n",
        "  \"\"\"\r\n",
        "  plt.subplot(*layout)\r\n",
        "  plt.imshow(data, cmap=cmap, vmin=vmin, vmax=vmax)\r\n",
        "  plt.title(name)\r\n",
        "  plt.grid(False)\r\n",
        "  plt.axis('off')\r\n",
        "def get_range_image(laser_name, return_index):\r\n",
        "  \"\"\"Returns range image given a laser name and its return index.\"\"\"\r\n",
        "  return range_images[laser_name][return_index]\r\n",
        "def show_range_image(range_image, layout_index_start = 1):\r\n",
        "  \"\"\"Shows range image.\r\n",
        "\r\n",
        "  Args:\r\n",
        "    range_image: the range image data from a given lidar of type MatrixFloat.\r\n",
        "    layout_index_start: layout offset\r\n",
        "  \"\"\"\r\n",
        "  range_image_tensor = tf.convert_to_tensor(range_image.data)\r\n",
        "  range_image_tensor = tf.reshape(range_image_tensor, range_image.shape.dims)\r\n",
        "  lidar_image_mask = tf.greater_equal(range_image_tensor, 0)\r\n",
        "  range_image_tensor = tf.where(lidar_image_mask, range_image_tensor,\r\n",
        "                                tf.ones_like(range_image_tensor) * 1e10)\r\n",
        "  range_image_range = range_image_tensor[...,0] \r\n",
        "  range_image_intensity = range_image_tensor[...,1]\r\n",
        "  range_image_elongation = range_image_tensor[...,2]\r\n",
        "  plot_range_image_helper(range_image_range.numpy(), 'range',\r\n",
        "                   [8, 1, layout_index_start], vmax=75, cmap='gray')\r\n",
        "  plot_range_image_helper(range_image_intensity.numpy(), 'intensity',\r\n",
        "                   [8, 1, layout_index_start + 1], vmax=1.5, cmap='gray')\r\n",
        "  plot_range_image_helper(range_image_elongation.numpy(), 'elongation',\r\n",
        "                   [8, 1, layout_index_start + 2], vmax=1.5, cmap='gray')\r\n",
        "\r\n",
        "def show_range_image2(range_image):\r\n",
        "  range_image_tensor = tf.convert_to_tensor(range_image.data)\r\n",
        "  range_image_tensor = tf.reshape(range_image_tensor, range_image.shape.dims)\r\n",
        "  lidar_image_mask = tf.greater_equal(range_image_tensor, 0)\r\n",
        "  range_image_tensor = tf.where(lidar_image_mask, range_image_tensor,\r\n",
        "                                tf.ones_like(range_image_tensor) * 1e10)\r\n",
        "  print(range_image_tensor[...,0].numpy(),\"\\n\",range_image_tensor[...,1].numpy())\r\n",
        "  \r\n",
        "def convert_range_image_to_point_cloud(frame,\r\n",
        "                                       range_images,\r\n",
        "                                       camera_projections,\r\n",
        "                                       range_image_top_pose,\r\n",
        "                                       ri_index = 0):\r\n",
        "  \"\"\"Convert range images to point cloud.\r\n",
        "\r\n",
        "  Args:\r\n",
        "    frame: open dataset frame\r\n",
        "     range_images: A dict of {laser_name,\r\n",
        "       [range_image_first_return, range_image_second_return]}.\r\n",
        "     camera_projections: A dict of {laser_name,\r\n",
        "       [camera_projection_from_first_return,\r\n",
        "        camera_projection_from_second_return]}.\r\n",
        "    range_image_top_pose: range image pixel pose for top lidar.\r\n",
        "    ri_index: 0 for the first return, 1 for the second return.\r\n",
        "  Returns:\r\n",
        "    points: {[N, 3]} list of 3d lidar points of length 5 (number of lidars).\r\n",
        "    cp_points: {[N, 6]} list of camera projections of length 5\r\n",
        "      (number of lidars).\r\n",
        "  \"\"\"\r\n",
        "  calibrations = sorted(frame.context.laser_calibrations, key=lambda c: c.name)\r\n",
        "  lasers = sorted(frame.lasers, key=lambda laser: laser.name)\r\n",
        "  points = [] \r\n",
        "  cp_points = []\r\n",
        "  \r\n",
        "  frame_pose = tf.convert_to_tensor(\r\n",
        "      np.reshape(np.array(frame.pose.transform), [4, 4]))\r\n",
        "  # [H, W, 6]\r\n",
        "  range_image_top_pose_tensor = tf.reshape(\r\n",
        "      tf.convert_to_tensor(range_image_top_pose.data),\r\n",
        "      range_image_top_pose.shape.dims)\r\n",
        "  # [H, W, 3, 3]\r\n",
        "  range_image_top_pose_tensor_rotation = transform_utils.get_rotation_matrix(\r\n",
        "      range_image_top_pose_tensor[..., 0], range_image_top_pose_tensor[..., 1],\r\n",
        "      range_image_top_pose_tensor[..., 2])\r\n",
        "  range_image_top_pose_tensor_translation = range_image_top_pose_tensor[..., 3:]\r\n",
        "  range_image_top_pose_tensor = transform_utils.get_transform(\r\n",
        "      range_image_top_pose_tensor_rotation,\r\n",
        "      range_image_top_pose_tensor_translation)\r\n",
        "  for c in calibrations:\r\n",
        "    range_image = range_images[c.name][ri_index]\r\n",
        "    if len(c.beam_inclinations) == 0:\r\n",
        "      beam_inclinations = range_image_utils.compute_inclination(\r\n",
        "          tf.constant([c.beam_inclination_min, c.beam_inclination_max]),\r\n",
        "          height=range_image.shape.dims[0])\r\n",
        "    else:\r\n",
        "      beam_inclinations = tf.constant(c.beam_inclinations)\r\n",
        "\r\n",
        "    beam_inclinations = tf.reverse(beam_inclinations, axis=[-1])\r\n",
        "    extrinsic = np.reshape(np.array(c.extrinsic.transform), [4, 4])\r\n",
        "\r\n",
        "    range_image_tensor = tf.reshape(\r\n",
        "        tf.convert_to_tensor(range_image.data), range_image.shape.dims)\r\n",
        "    pixel_pose_local = None\r\n",
        "    frame_pose_local = None\r\n",
        "    if c.name == open_dataset.LaserName.TOP:\r\n",
        "      pixel_pose_local = range_image_top_pose_tensor\r\n",
        "      pixel_pose_local = tf.expand_dims(pixel_pose_local, axis=0)\r\n",
        "      frame_pose_local = tf.expand_dims(frame_pose, axis=0)\r\n",
        "    range_image_mask = range_image_tensor[..., 0] > 0\r\n",
        "    range_image_cartesian = range_image_utils.extract_point_cloud_from_range_image(\r\n",
        "        tf.expand_dims(range_image_tensor[..., 0], axis=0),\r\n",
        "        tf.expand_dims(extrinsic, axis=0),\r\n",
        "        tf.expand_dims(tf.convert_to_tensor(beam_inclinations), axis=0),\r\n",
        "        pixel_pose=pixel_pose_local,\r\n",
        "        frame_pose=frame_pose_local)\r\n",
        "\r\n",
        "    range_image_cartesian = tf.squeeze(range_image_cartesian, axis=0)\r\n",
        "    range_image_inten=range_image_tensor[..., 1].numpy().reshape([64, 2650,1])\r\n",
        "    points_real=np.append(range_image_cartesian.numpy(),range_image_inten,axis = 2)\r\n",
        "    points_real=tf.gather_nd(points_real,tf.where(range_image_mask))\r\n",
        "    '''\r\n",
        "    points_tensor = tf.gather_nd(range_image_cartesian,\r\n",
        "                                 tf.where(range_image_mask))\r\n",
        "\r\n",
        "    cp = camera_projections[c.name][0]\r\n",
        "    cp_tensor = tf.reshape(tf.convert_to_tensor(cp.data), cp.shape.dims)\r\n",
        "    cp_points_tensor = tf.gather_nd(cp_tensor, tf.where(range_image_mask))\r\n",
        "    points.append(points_tensor.numpy())\r\n",
        "    cp_points.append(cp_points_tensor.numpy())\r\n",
        "    '''\r\n",
        "    break\r\n",
        "\r\n",
        "  return points_real.numpy()\r\n",
        "\r\n",
        "#formate Car 0 0 -10 50 50 50 50 w h l y z x r\r\n",
        "#label 3D labels: vehicles, pedestrians, cyclists, signs\r\n",
        "#TYPE_VEHICLE  TYPE_SIGN   TYPE_PEDESTRIAN  TYPE_CYCLISTS\r\n",
        "#path=\"/media/autolab/3187f5af-bb7c-4819-9e8c-3a685e91817c/TXB/source_data/waymo/waymo_data/\"\r\n",
        "path=\"./training_0000/\"# *.tfrecord数据的地址\r\n",
        "tfs=os.listdir(path)\r\n",
        "num=0\r\n",
        "obj_types={1:'Car', 3:'DontCare',2:'Pedestrian',4:'Cyclist'}\r\n",
        "#re_index=open(\"/media/autolab/3187f5af-bb7c-4819-9e8c-3a685e91817c/TXB/source_data/waymo/re_index.txt\",\"w\")\r\n",
        "re_index=open(\"./re_index.txt\",\"w\")#?不知道reindex是干嘛的\r\n",
        "for file in tfs:\r\n",
        "    FILENAME = path+file #利用for循环get每一个tfrecord\r\n",
        "    dataset = tf.data.TFRecordDataset(FILENAME)\r\n",
        "    print(file)\r\n",
        "    for data in dataset:\r\n",
        "      index=\"%06d\" % num\r\n",
        "      re_index.write(file+'\\t\\t'+index+\"\\n\")\r\n",
        "      frame = open_dataset.Frame()\r\n",
        "      frame.ParseFromString(bytearray(data.numpy()))\r\n",
        "      (range_images, camera_projections, range_image_top_pose) = parse_range_image_and_camera_projection(frame)\r\n",
        "      points = convert_range_image_to_point_cloud(frame,range_images,camera_projections,range_image_top_pose)\r\n",
        "      #newf=open(\"/media/autolab/3187f5af-bb7c-4819-9e8c-3a685e91817c/TXB/source_data/waymo/waymo_label/\"+index+\".txt\",\"w\")\r\n",
        "      newf=open(\"./labels/\"+index+\".txt\",\"w\")\r\n",
        "      for label in frame.laser_labels:\r\n",
        "        obj_type=obj_types[label.type]\r\n",
        "        x=label.box.center_x\r\n",
        "        y=label.box.center_y\r\n",
        "        z=label.box.center_z\r\n",
        "        l=label.box.width\r\n",
        "        w=label.box.length\r\n",
        "        h=label.box.height\r\n",
        "        r=label.box.heading+1.5707963\r\n",
        "        if r>3.1415926:\r\n",
        "          r=r-3.1415926\r\n",
        "        one_obj=obj_type+' 0 0 -10 50 50 50 50 '+str(w)+' '+str(h)+' '+str(l)+' '+str(y)+' '+str(z)+' '+str(x)+' '+str(r)\r\n",
        "        newf.write(one_obj+\"\\n\")\r\n",
        "      #with open(\"/media/autolab/3187f5af-bb7c-4819-9e8c-3a685e91817c/TXB/source_data/waymo/waymo_bin/\"+index+\".bin\", 'wb')as fp:\r\n",
        "      with open(\"./bins/\"+index+\".bin\", 'wb')as fp:\r\n",
        "        for point in points:\r\n",
        "          x = struct.pack('f', point[0])\r\n",
        "          y = struct.pack('f', point[1])\r\n",
        "          z = struct.pack('f', point[2])\r\n",
        "          r = struct.pack('f', point[3])\r\n",
        "          fp.write(x)\r\n",
        "          fp.write(y)\r\n",
        "          fp.write(z)\r\n",
        "          fp.write(r) \r\n",
        "      print(\"frame:\"+index)\r\n",
        "      num+=1\r\n"
      ],
      "execution_count": null,
      "outputs": [
        {
          "output_type": "stream",
          "text": [
            "segment-10017090168044687777_6380_000_6400_000_with_camera_labels.tfrecord\n",
            "frame:000000\n",
            "frame:000001\n"
          ],
          "name": "stdout"
        },
        {
          "output_type": "error",
          "ename": "DataLossError",
          "evalue": "ignored",
          "traceback": [
            "\u001b[0;31m---------------------------------------------------------------------------\u001b[0m",
            "\u001b[0;31mDataLossError\u001b[0m                             Traceback (most recent call last)",
            "\u001b[0;32m/usr/local/lib/python3.6/dist-packages/tensorflow/python/eager/context.py\u001b[0m in \u001b[0;36mexecution_mode\u001b[0;34m(mode)\u001b[0m\n\u001b[1;32m   2112\u001b[0m       \u001b[0mctx\u001b[0m\u001b[0;34m.\u001b[0m\u001b[0mexecutor\u001b[0m \u001b[0;34m=\u001b[0m \u001b[0mexecutor_new\u001b[0m\u001b[0;34m\u001b[0m\u001b[0;34m\u001b[0m\u001b[0m\n\u001b[0;32m-> 2113\u001b[0;31m       \u001b[0;32myield\u001b[0m\u001b[0;34m\u001b[0m\u001b[0;34m\u001b[0m\u001b[0m\n\u001b[0m\u001b[1;32m   2114\u001b[0m     \u001b[0;32mfinally\u001b[0m\u001b[0;34m:\u001b[0m\u001b[0;34m\u001b[0m\u001b[0;34m\u001b[0m\u001b[0m\n",
            "\u001b[0;32m/usr/local/lib/python3.6/dist-packages/tensorflow/python/data/ops/iterator_ops.py\u001b[0m in \u001b[0;36m_next_internal\u001b[0;34m(self)\u001b[0m\n\u001b[1;32m    732\u001b[0m           \u001b[0moutput_types\u001b[0m\u001b[0;34m=\u001b[0m\u001b[0mself\u001b[0m\u001b[0;34m.\u001b[0m\u001b[0m_flat_output_types\u001b[0m\u001b[0;34m,\u001b[0m\u001b[0;34m\u001b[0m\u001b[0;34m\u001b[0m\u001b[0m\n\u001b[0;32m--> 733\u001b[0;31m           output_shapes=self._flat_output_shapes)\n\u001b[0m\u001b[1;32m    734\u001b[0m \u001b[0;34m\u001b[0m\u001b[0m\n",
            "\u001b[0;32m/usr/local/lib/python3.6/dist-packages/tensorflow/python/ops/gen_dataset_ops.py\u001b[0m in \u001b[0;36miterator_get_next\u001b[0;34m(iterator, output_types, output_shapes, name)\u001b[0m\n\u001b[1;32m   2578\u001b[0m     \u001b[0;32mexcept\u001b[0m \u001b[0m_core\u001b[0m\u001b[0;34m.\u001b[0m\u001b[0m_NotOkStatusException\u001b[0m \u001b[0;32mas\u001b[0m \u001b[0me\u001b[0m\u001b[0;34m:\u001b[0m\u001b[0;34m\u001b[0m\u001b[0;34m\u001b[0m\u001b[0m\n\u001b[0;32m-> 2579\u001b[0;31m       \u001b[0m_ops\u001b[0m\u001b[0;34m.\u001b[0m\u001b[0mraise_from_not_ok_status\u001b[0m\u001b[0;34m(\u001b[0m\u001b[0me\u001b[0m\u001b[0;34m,\u001b[0m \u001b[0mname\u001b[0m\u001b[0;34m)\u001b[0m\u001b[0;34m\u001b[0m\u001b[0;34m\u001b[0m\u001b[0m\n\u001b[0m\u001b[1;32m   2580\u001b[0m     \u001b[0;32mexcept\u001b[0m \u001b[0m_core\u001b[0m\u001b[0;34m.\u001b[0m\u001b[0m_FallbackException\u001b[0m\u001b[0;34m:\u001b[0m\u001b[0;34m\u001b[0m\u001b[0;34m\u001b[0m\u001b[0m\n",
            "\u001b[0;32m/usr/local/lib/python3.6/dist-packages/tensorflow/python/framework/ops.py\u001b[0m in \u001b[0;36mraise_from_not_ok_status\u001b[0;34m(e, name)\u001b[0m\n\u001b[1;32m   6861\u001b[0m   \u001b[0;31m# pylint: disable=protected-access\u001b[0m\u001b[0;34m\u001b[0m\u001b[0;34m\u001b[0m\u001b[0;34m\u001b[0m\u001b[0m\n\u001b[0;32m-> 6862\u001b[0;31m   \u001b[0msix\u001b[0m\u001b[0;34m.\u001b[0m\u001b[0mraise_from\u001b[0m\u001b[0;34m(\u001b[0m\u001b[0mcore\u001b[0m\u001b[0;34m.\u001b[0m\u001b[0m_status_to_exception\u001b[0m\u001b[0;34m(\u001b[0m\u001b[0me\u001b[0m\u001b[0;34m.\u001b[0m\u001b[0mcode\u001b[0m\u001b[0;34m,\u001b[0m \u001b[0mmessage\u001b[0m\u001b[0;34m)\u001b[0m\u001b[0;34m,\u001b[0m \u001b[0;32mNone\u001b[0m\u001b[0;34m)\u001b[0m\u001b[0;34m\u001b[0m\u001b[0;34m\u001b[0m\u001b[0m\n\u001b[0m\u001b[1;32m   6863\u001b[0m   \u001b[0;31m# pylint: enable=protected-access\u001b[0m\u001b[0;34m\u001b[0m\u001b[0;34m\u001b[0m\u001b[0;34m\u001b[0m\u001b[0m\n",
            "\u001b[0;32m/usr/local/lib/python3.6/dist-packages/six.py\u001b[0m in \u001b[0;36mraise_from\u001b[0;34m(value, from_value)\u001b[0m\n",
            "\u001b[0;31mDataLossError\u001b[0m: truncated record at 11641534' failed with Read less bytes than requested [Op:IteratorGetNext]",
            "\nDuring handling of the above exception, another exception occurred:\n",
            "\u001b[0;31mDataLossError\u001b[0m                             Traceback (most recent call last)",
            "\u001b[0;32m<ipython-input-17-e699ef0b8a7e>\u001b[0m in \u001b[0;36m<module>\u001b[0;34m()\u001b[0m\n\u001b[1;32m    219\u001b[0m     \u001b[0mdataset\u001b[0m \u001b[0;34m=\u001b[0m \u001b[0mtf\u001b[0m\u001b[0;34m.\u001b[0m\u001b[0mdata\u001b[0m\u001b[0;34m.\u001b[0m\u001b[0mTFRecordDataset\u001b[0m\u001b[0;34m(\u001b[0m\u001b[0mFILENAME\u001b[0m\u001b[0;34m)\u001b[0m\u001b[0;34m\u001b[0m\u001b[0;34m\u001b[0m\u001b[0m\n\u001b[1;32m    220\u001b[0m     \u001b[0mprint\u001b[0m\u001b[0;34m(\u001b[0m\u001b[0mfile\u001b[0m\u001b[0;34m)\u001b[0m\u001b[0;34m\u001b[0m\u001b[0;34m\u001b[0m\u001b[0m\n\u001b[0;32m--> 221\u001b[0;31m     \u001b[0;32mfor\u001b[0m \u001b[0mdata\u001b[0m \u001b[0;32min\u001b[0m \u001b[0mdataset\u001b[0m\u001b[0;34m:\u001b[0m\u001b[0;34m\u001b[0m\u001b[0;34m\u001b[0m\u001b[0m\n\u001b[0m\u001b[1;32m    222\u001b[0m       \u001b[0mindex\u001b[0m\u001b[0;34m=\u001b[0m\u001b[0;34m\"%06d\"\u001b[0m \u001b[0;34m%\u001b[0m \u001b[0mnum\u001b[0m\u001b[0;34m\u001b[0m\u001b[0;34m\u001b[0m\u001b[0m\n\u001b[1;32m    223\u001b[0m       \u001b[0mre_index\u001b[0m\u001b[0;34m.\u001b[0m\u001b[0mwrite\u001b[0m\u001b[0;34m(\u001b[0m\u001b[0mfile\u001b[0m\u001b[0;34m+\u001b[0m\u001b[0;34m'\\t\\t'\u001b[0m\u001b[0;34m+\u001b[0m\u001b[0mindex\u001b[0m\u001b[0;34m+\u001b[0m\u001b[0;34m\"\\n\"\u001b[0m\u001b[0;34m)\u001b[0m\u001b[0;34m\u001b[0m\u001b[0;34m\u001b[0m\u001b[0m\n",
            "\u001b[0;32m/usr/local/lib/python3.6/dist-packages/tensorflow/python/data/ops/iterator_ops.py\u001b[0m in \u001b[0;36m__next__\u001b[0;34m(self)\u001b[0m\n\u001b[1;32m    745\u001b[0m   \u001b[0;32mdef\u001b[0m \u001b[0m__next__\u001b[0m\u001b[0;34m(\u001b[0m\u001b[0mself\u001b[0m\u001b[0;34m)\u001b[0m\u001b[0;34m:\u001b[0m\u001b[0;34m\u001b[0m\u001b[0;34m\u001b[0m\u001b[0m\n\u001b[1;32m    746\u001b[0m     \u001b[0;32mtry\u001b[0m\u001b[0;34m:\u001b[0m\u001b[0;34m\u001b[0m\u001b[0;34m\u001b[0m\u001b[0m\n\u001b[0;32m--> 747\u001b[0;31m       \u001b[0;32mreturn\u001b[0m \u001b[0mself\u001b[0m\u001b[0;34m.\u001b[0m\u001b[0m_next_internal\u001b[0m\u001b[0;34m(\u001b[0m\u001b[0;34m)\u001b[0m\u001b[0;34m\u001b[0m\u001b[0;34m\u001b[0m\u001b[0m\n\u001b[0m\u001b[1;32m    748\u001b[0m     \u001b[0;32mexcept\u001b[0m \u001b[0merrors\u001b[0m\u001b[0;34m.\u001b[0m\u001b[0mOutOfRangeError\u001b[0m\u001b[0;34m:\u001b[0m\u001b[0;34m\u001b[0m\u001b[0;34m\u001b[0m\u001b[0m\n\u001b[1;32m    749\u001b[0m       \u001b[0;32mraise\u001b[0m \u001b[0mStopIteration\u001b[0m\u001b[0;34m\u001b[0m\u001b[0;34m\u001b[0m\u001b[0m\n",
            "\u001b[0;32m/usr/local/lib/python3.6/dist-packages/tensorflow/python/data/ops/iterator_ops.py\u001b[0m in \u001b[0;36m_next_internal\u001b[0;34m(self)\u001b[0m\n\u001b[1;32m    737\u001b[0m         \u001b[0;32mreturn\u001b[0m \u001b[0mself\u001b[0m\u001b[0;34m.\u001b[0m\u001b[0m_element_spec\u001b[0m\u001b[0;34m.\u001b[0m\u001b[0m_from_compatible_tensor_list\u001b[0m\u001b[0;34m(\u001b[0m\u001b[0mret\u001b[0m\u001b[0;34m)\u001b[0m  \u001b[0;31m# pylint: disable=protected-access\u001b[0m\u001b[0;34m\u001b[0m\u001b[0;34m\u001b[0m\u001b[0m\n\u001b[1;32m    738\u001b[0m       \u001b[0;32mexcept\u001b[0m \u001b[0mAttributeError\u001b[0m\u001b[0;34m:\u001b[0m\u001b[0;34m\u001b[0m\u001b[0;34m\u001b[0m\u001b[0m\n\u001b[0;32m--> 739\u001b[0;31m         \u001b[0;32mreturn\u001b[0m \u001b[0mstructure\u001b[0m\u001b[0;34m.\u001b[0m\u001b[0mfrom_compatible_tensor_list\u001b[0m\u001b[0;34m(\u001b[0m\u001b[0mself\u001b[0m\u001b[0;34m.\u001b[0m\u001b[0m_element_spec\u001b[0m\u001b[0;34m,\u001b[0m \u001b[0mret\u001b[0m\u001b[0;34m)\u001b[0m\u001b[0;34m\u001b[0m\u001b[0;34m\u001b[0m\u001b[0m\n\u001b[0m\u001b[1;32m    740\u001b[0m \u001b[0;34m\u001b[0m\u001b[0m\n\u001b[1;32m    741\u001b[0m   \u001b[0;34m@\u001b[0m\u001b[0mproperty\u001b[0m\u001b[0;34m\u001b[0m\u001b[0;34m\u001b[0m\u001b[0m\n",
            "\u001b[0;32m/usr/lib/python3.6/contextlib.py\u001b[0m in \u001b[0;36m__exit__\u001b[0;34m(self, type, value, traceback)\u001b[0m\n\u001b[1;32m     97\u001b[0m                 \u001b[0mvalue\u001b[0m \u001b[0;34m=\u001b[0m \u001b[0mtype\u001b[0m\u001b[0;34m(\u001b[0m\u001b[0;34m)\u001b[0m\u001b[0;34m\u001b[0m\u001b[0;34m\u001b[0m\u001b[0m\n\u001b[1;32m     98\u001b[0m             \u001b[0;32mtry\u001b[0m\u001b[0;34m:\u001b[0m\u001b[0;34m\u001b[0m\u001b[0;34m\u001b[0m\u001b[0m\n\u001b[0;32m---> 99\u001b[0;31m                 \u001b[0mself\u001b[0m\u001b[0;34m.\u001b[0m\u001b[0mgen\u001b[0m\u001b[0;34m.\u001b[0m\u001b[0mthrow\u001b[0m\u001b[0;34m(\u001b[0m\u001b[0mtype\u001b[0m\u001b[0;34m,\u001b[0m \u001b[0mvalue\u001b[0m\u001b[0;34m,\u001b[0m \u001b[0mtraceback\u001b[0m\u001b[0;34m)\u001b[0m\u001b[0;34m\u001b[0m\u001b[0;34m\u001b[0m\u001b[0m\n\u001b[0m\u001b[1;32m    100\u001b[0m             \u001b[0;32mexcept\u001b[0m \u001b[0mStopIteration\u001b[0m \u001b[0;32mas\u001b[0m \u001b[0mexc\u001b[0m\u001b[0;34m:\u001b[0m\u001b[0;34m\u001b[0m\u001b[0;34m\u001b[0m\u001b[0m\n\u001b[1;32m    101\u001b[0m                 \u001b[0;31m# Suppress StopIteration *unless* it's the same exception that\u001b[0m\u001b[0;34m\u001b[0m\u001b[0;34m\u001b[0m\u001b[0;34m\u001b[0m\u001b[0m\n",
            "\u001b[0;32m/usr/local/lib/python3.6/dist-packages/tensorflow/python/eager/context.py\u001b[0m in \u001b[0;36mexecution_mode\u001b[0;34m(mode)\u001b[0m\n\u001b[1;32m   2114\u001b[0m     \u001b[0;32mfinally\u001b[0m\u001b[0;34m:\u001b[0m\u001b[0;34m\u001b[0m\u001b[0;34m\u001b[0m\u001b[0m\n\u001b[1;32m   2115\u001b[0m       \u001b[0mctx\u001b[0m\u001b[0;34m.\u001b[0m\u001b[0mexecutor\u001b[0m \u001b[0;34m=\u001b[0m \u001b[0mexecutor_old\u001b[0m\u001b[0;34m\u001b[0m\u001b[0;34m\u001b[0m\u001b[0m\n\u001b[0;32m-> 2116\u001b[0;31m       \u001b[0mexecutor_new\u001b[0m\u001b[0;34m.\u001b[0m\u001b[0mwait\u001b[0m\u001b[0;34m(\u001b[0m\u001b[0;34m)\u001b[0m\u001b[0;34m\u001b[0m\u001b[0;34m\u001b[0m\u001b[0m\n\u001b[0m\u001b[1;32m   2117\u001b[0m \u001b[0;34m\u001b[0m\u001b[0m\n\u001b[1;32m   2118\u001b[0m \u001b[0;34m\u001b[0m\u001b[0m\n",
            "\u001b[0;32m/usr/local/lib/python3.6/dist-packages/tensorflow/python/eager/executor.py\u001b[0m in \u001b[0;36mwait\u001b[0;34m(self)\u001b[0m\n\u001b[1;32m     67\u001b[0m   \u001b[0;32mdef\u001b[0m \u001b[0mwait\u001b[0m\u001b[0;34m(\u001b[0m\u001b[0mself\u001b[0m\u001b[0;34m)\u001b[0m\u001b[0;34m:\u001b[0m\u001b[0;34m\u001b[0m\u001b[0;34m\u001b[0m\u001b[0m\n\u001b[1;32m     68\u001b[0m     \u001b[0;34m\"\"\"Waits for ops dispatched in this executor to finish.\"\"\"\u001b[0m\u001b[0;34m\u001b[0m\u001b[0;34m\u001b[0m\u001b[0m\n\u001b[0;32m---> 69\u001b[0;31m     \u001b[0mpywrap_tfe\u001b[0m\u001b[0;34m.\u001b[0m\u001b[0mTFE_ExecutorWaitForAllPendingNodes\u001b[0m\u001b[0;34m(\u001b[0m\u001b[0mself\u001b[0m\u001b[0;34m.\u001b[0m\u001b[0m_handle\u001b[0m\u001b[0;34m)\u001b[0m\u001b[0;34m\u001b[0m\u001b[0;34m\u001b[0m\u001b[0m\n\u001b[0m\u001b[1;32m     70\u001b[0m \u001b[0;34m\u001b[0m\u001b[0m\n\u001b[1;32m     71\u001b[0m   \u001b[0;32mdef\u001b[0m \u001b[0mclear_error\u001b[0m\u001b[0;34m(\u001b[0m\u001b[0mself\u001b[0m\u001b[0;34m)\u001b[0m\u001b[0;34m:\u001b[0m\u001b[0;34m\u001b[0m\u001b[0;34m\u001b[0m\u001b[0m\n",
            "\u001b[0;31mDataLossError\u001b[0m: truncated record at 11641534' failed with Read less bytes than requested"
          ]
        }
      ]
    },
    {
      "cell_type": "code",
      "metadata": {
        "id": "uo2lkrtv5xKH"
      },
      "source": [
        "!cd waymo-od"
      ],
      "execution_count": null,
      "outputs": []
    },
    {
      "cell_type": "code",
      "metadata": {
        "colab": {
          "base_uri": "https://localhost:8080/"
        },
        "id": "ifYBzUOp7EXi",
        "outputId": "ff686ffb-83b8-4d29-bde5-183f424d9a39"
      },
      "source": [
        "!ls"
      ],
      "execution_count": null,
      "outputs": [
        {
          "output_type": "stream",
          "text": [
            "bins   labels\t    training_0000\t  waymo-od\n",
            "drive  sample_data  waymo-dataset-viewer  waymo_open_dataset\n"
          ],
          "name": "stdout"
        }
      ]
    }
  ]
}